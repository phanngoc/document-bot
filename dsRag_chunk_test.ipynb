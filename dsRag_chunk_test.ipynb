{
 "cells": [
  {
   "cell_type": "code",
   "execution_count": 1,
   "metadata": {},
   "outputs": [
    {
     "data": {
      "text/plain": [
       "True"
      ]
     },
     "execution_count": 1,
     "metadata": {},
     "output_type": "execute_result"
    }
   ],
   "source": [
    "import os\n",
    "from dotenv import load_dotenv\n",
    "import sqlite3\n",
    "from elasticsearch import Elasticsearch  # Add this\n",
    "from langchain_community.retrievers import (\n",
    "    ElasticSearchBM25Retriever,\n",
    ")\n",
    "\n",
    "# Tải biến môi trường từ tệp .env\n",
    "load_dotenv()"
   ]
  },
  {
   "cell_type": "code",
   "execution_count": 2,
   "metadata": {},
   "outputs": [],
   "source": [
    "\n",
    "# !pip install dsrag\n",
    "from dsrag.create_kb import create_kb_from_file\n",
    "from dsrag.knowledge_base import KnowledgeBase\n",
    "\n",
    "file_path = \"data/cong-ty-nam-mo-dat-hiem-lon-nhat-viet-nam-lan-dau-bao-lai-ng.txt\"\n",
    "kb_id = \"cong_ty_mo_dat_hiem\"\n",
    "doc_id = \"doc_id\"\n",
    "# kb = create_kb_from_file(kb_id, file_path)\n",
    "\n",
    "kb = KnowledgeBase(kb_id, exists_ok=True, storage_directory='example_kb_data')"
   ]
  },
  {
   "cell_type": "code",
   "execution_count": null,
   "metadata": {},
   "outputs": [],
   "source": [
    "search_queries = [\"tổng tài sản của Vimico ?\"]\n",
    "results = kb.query(search_queries)\n",
    "for segment in results:\n",
    "    print('segment:', segment)"
   ]
  },
  {
   "cell_type": "code",
   "execution_count": 3,
   "metadata": {},
   "outputs": [
    {
     "name": "stdout",
     "output_type": "stream",
     "text": [
      "6\n"
     ]
    }
   ],
   "source": [
    "num_chunks = len(kb.chunk_db.data[doc_id])\n",
    "print (num_chunks)\n",
    "\n",
    "chunks = []\n",
    "for i in range(num_chunks):\n",
    "    chunk = {\n",
    "        \"section_title\": kb.chunk_db.get_section_title(doc_id, i),\n",
    "        \"chunk_text\": kb.chunk_db.get_chunk_text(doc_id, i),\n",
    "    }\n",
    "\n",
    "    chunks.append(chunk)"
   ]
  },
  {
   "cell_type": "code",
   "execution_count": 7,
   "metadata": {},
   "outputs": [
    {
     "name": "stdout",
     "output_type": "stream",
     "text": [
      "[{'section_title': 'Analysis of Profit Surge and Product Pricing', 'chunk_text': \"Giải trình về con số lợi nhuận đột biến, Vimico cho biết trong năm qua, giá bán bình quân các sản phẩm chính đều tăng cao so với cùng kỳ. Cụ thể, giá bán đồng tấm là 230 triệu/tấn, tăng 32 triệu/tấn; giá bán vàng tăng 449 triệu đồng/kg lên 1,8 tỷ/kg; giá bán bạc là 17,9 triệu/kg, tăng 4 triệu/kg và giá bán tinh quặng manhetit là 1,6 triệu/tấn, tăng 0,5 triệu/tấn.\\n\\nCông ty 'nắm' mỏ đất hiếm lớn nhất Việt Nam lần đầu báo lãi nghìn tỷ, giá trị vốn hóa đạt 32.000 tỷ, vượt Novaland, Kinh Bắc, Đất Xanh, MSB... - Ảnh 1.\"}, {'section_title': 'Company Assets and Ownership Structure', 'chunk_text': 'Tại thời điểm cuối năm 2024, tổng tài sản của Vimico là 9.551 tỷ đồng. Công ty sở hữu khoảng 467 tỷ đồng tiền mặt và tiền gửi ngân hàng. Ngoài tài sản cố định, khoản mục lớn thứ hai trong cơ cấu tài sản của công ty nằm ở hàng tồn kho, ghi nhận 2.826 tỷ đồng.\\n\\nVốn chủ sở hữu cuối kỳ là 3.949 tỷ đồng, bao gồm 1.318 tỷ đồng lợi nhuận sau thuế chưa phân phối.\\n'}]\n"
     ]
    }
   ],
   "source": [
    "print(chunks[2:4])"
   ]
  },
  {
   "cell_type": "code",
   "execution_count": 11,
   "metadata": {},
   "outputs": [],
   "source": [
    "from dsrag.llm import OpenAIChatAPI\n",
    "from dsrag.reranker import NoReranker\n",
    "\n",
    "llm = OpenAIChatAPI(model='gpt-4o')\n",
    "reranker = NoReranker()\n",
    "\n",
    "kb = KnowledgeBase(kb_id=kb_id, reranker=reranker, auto_context_model=llm)"
   ]
  },
  {
   "cell_type": "markdown",
   "metadata": {},
   "source": [
    "Documents -> VLM file parsing -> semantic sectioning -> chunking -> AutoContext -> embedding -> chunk and vector database upsert"
   ]
  },
  {
   "cell_type": "code",
   "execution_count": 12,
   "metadata": {},
   "outputs": [],
   "source": [
    "search_queries = [\"tổng tài sản của Vimico ?\"]\n",
    "\n",
    "results = kb.query(search_queries)\n",
    "for segment in results:\n",
    "    print('segment:', segment)"
   ]
  },
  {
   "cell_type": "code",
   "execution_count": null,
   "metadata": {},
   "outputs": [],
   "source": []
  }
 ],
 "metadata": {
  "kernelspec": {
   "display_name": ".venv",
   "language": "python",
   "name": "python3"
  },
  "language_info": {
   "codemirror_mode": {
    "name": "ipython",
    "version": 3
   },
   "file_extension": ".py",
   "mimetype": "text/x-python",
   "name": "python",
   "nbconvert_exporter": "python",
   "pygments_lexer": "ipython3",
   "version": "3.12.7"
  }
 },
 "nbformat": 4,
 "nbformat_minor": 2
}
