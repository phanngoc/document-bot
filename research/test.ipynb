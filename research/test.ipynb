{
 "cells": [
  {
   "cell_type": "code",
   "execution_count": 5,
   "metadata": {},
   "outputs": [
    {
     "name": "stdout",
     "output_type": "stream",
     "text": [
      "Collecting langchain-community\n",
      "  Downloading langchain_community-0.3.14-py3-none-any.whl.metadata (2.9 kB)\n",
      "Requirement already satisfied: PyYAML>=5.3 in /Users/ngocp/Documents/projects/document-bot/.venv/lib/python3.12/site-packages (from langchain-community) (6.0.2)\n",
      "Requirement already satisfied: SQLAlchemy<3,>=1.4 in /Users/ngocp/Documents/projects/document-bot/.venv/lib/python3.12/site-packages (from langchain-community) (2.0.36)\n",
      "Requirement already satisfied: aiohttp<4.0.0,>=3.8.3 in /Users/ngocp/Documents/projects/document-bot/.venv/lib/python3.12/site-packages (from langchain-community) (3.11.8)\n",
      "Requirement already satisfied: dataclasses-json<0.7,>=0.5.7 in /Users/ngocp/Documents/projects/document-bot/.venv/lib/python3.12/site-packages (from langchain-community) (0.6.7)\n",
      "Collecting httpx-sse<0.5.0,>=0.4.0 (from langchain-community)\n",
      "  Using cached httpx_sse-0.4.0-py3-none-any.whl.metadata (9.0 kB)\n",
      "Collecting langchain<0.4.0,>=0.3.14 (from langchain-community)\n",
      "  Downloading langchain-0.3.14-py3-none-any.whl.metadata (7.1 kB)\n",
      "Requirement already satisfied: langchain-core<0.4.0,>=0.3.29 in /Users/ngocp/Documents/projects/document-bot/.venv/lib/python3.12/site-packages (from langchain-community) (0.3.29)\n",
      "Requirement already satisfied: langsmith<0.3,>=0.1.125 in /Users/ngocp/Documents/projects/document-bot/.venv/lib/python3.12/site-packages (from langchain-community) (0.2.10)\n",
      "Requirement already satisfied: numpy<3,>=1.26.2 in /Users/ngocp/Documents/projects/document-bot/.venv/lib/python3.12/site-packages (from langchain-community) (1.26.4)\n",
      "Collecting pydantic-settings<3.0.0,>=2.4.0 (from langchain-community)\n",
      "  Downloading pydantic_settings-2.7.1-py3-none-any.whl.metadata (3.5 kB)\n",
      "Requirement already satisfied: requests<3,>=2 in /Users/ngocp/Documents/projects/document-bot/.venv/lib/python3.12/site-packages (from langchain-community) (2.32.3)\n",
      "Requirement already satisfied: tenacity!=8.4.0,<10,>=8.1.0 in /Users/ngocp/Documents/projects/document-bot/.venv/lib/python3.12/site-packages (from langchain-community) (8.5.0)\n",
      "Requirement already satisfied: aiohappyeyeballs>=2.3.0 in /Users/ngocp/Documents/projects/document-bot/.venv/lib/python3.12/site-packages (from aiohttp<4.0.0,>=3.8.3->langchain-community) (2.4.4)\n",
      "Requirement already satisfied: aiosignal>=1.1.2 in /Users/ngocp/Documents/projects/document-bot/.venv/lib/python3.12/site-packages (from aiohttp<4.0.0,>=3.8.3->langchain-community) (1.3.1)\n",
      "Requirement already satisfied: attrs>=17.3.0 in /Users/ngocp/Documents/projects/document-bot/.venv/lib/python3.12/site-packages (from aiohttp<4.0.0,>=3.8.3->langchain-community) (24.2.0)\n",
      "Requirement already satisfied: frozenlist>=1.1.1 in /Users/ngocp/Documents/projects/document-bot/.venv/lib/python3.12/site-packages (from aiohttp<4.0.0,>=3.8.3->langchain-community) (1.5.0)\n",
      "Requirement already satisfied: multidict<7.0,>=4.5 in /Users/ngocp/Documents/projects/document-bot/.venv/lib/python3.12/site-packages (from aiohttp<4.0.0,>=3.8.3->langchain-community) (6.1.0)\n",
      "Requirement already satisfied: propcache>=0.2.0 in /Users/ngocp/Documents/projects/document-bot/.venv/lib/python3.12/site-packages (from aiohttp<4.0.0,>=3.8.3->langchain-community) (0.2.0)\n",
      "Requirement already satisfied: yarl<2.0,>=1.17.0 in /Users/ngocp/Documents/projects/document-bot/.venv/lib/python3.12/site-packages (from aiohttp<4.0.0,>=3.8.3->langchain-community) (1.18.0)\n",
      "Requirement already satisfied: marshmallow<4.0.0,>=3.18.0 in /Users/ngocp/Documents/projects/document-bot/.venv/lib/python3.12/site-packages (from dataclasses-json<0.7,>=0.5.7->langchain-community) (3.23.1)\n",
      "Requirement already satisfied: typing-inspect<1,>=0.4.0 in /Users/ngocp/Documents/projects/document-bot/.venv/lib/python3.12/site-packages (from dataclasses-json<0.7,>=0.5.7->langchain-community) (0.9.0)\n",
      "Requirement already satisfied: langchain-text-splitters<0.4.0,>=0.3.3 in /Users/ngocp/Documents/projects/document-bot/.venv/lib/python3.12/site-packages (from langchain<0.4.0,>=0.3.14->langchain-community) (0.3.5)\n",
      "Requirement already satisfied: pydantic<3.0.0,>=2.7.4 in /Users/ngocp/Documents/projects/document-bot/.venv/lib/python3.12/site-packages (from langchain<0.4.0,>=0.3.14->langchain-community) (2.9.2)\n",
      "Requirement already satisfied: jsonpatch<2.0,>=1.33 in /Users/ngocp/Documents/projects/document-bot/.venv/lib/python3.12/site-packages (from langchain-core<0.4.0,>=0.3.29->langchain-community) (1.33)\n",
      "Requirement already satisfied: packaging<25,>=23.2 in /Users/ngocp/Documents/projects/document-bot/.venv/lib/python3.12/site-packages (from langchain-core<0.4.0,>=0.3.29->langchain-community) (24.2)\n",
      "Requirement already satisfied: typing-extensions>=4.7 in /Users/ngocp/Documents/projects/document-bot/.venv/lib/python3.12/site-packages (from langchain-core<0.4.0,>=0.3.29->langchain-community) (4.12.2)\n",
      "Requirement already satisfied: httpx<1,>=0.23.0 in /Users/ngocp/Documents/projects/document-bot/.venv/lib/python3.12/site-packages (from langsmith<0.3,>=0.1.125->langchain-community) (0.28.0)\n",
      "Requirement already satisfied: orjson<4.0.0,>=3.9.14 in /Users/ngocp/Documents/projects/document-bot/.venv/lib/python3.12/site-packages (from langsmith<0.3,>=0.1.125->langchain-community) (3.10.12)\n",
      "Requirement already satisfied: requests-toolbelt<2.0.0,>=1.0.0 in /Users/ngocp/Documents/projects/document-bot/.venv/lib/python3.12/site-packages (from langsmith<0.3,>=0.1.125->langchain-community) (1.0.0)\n",
      "Requirement already satisfied: python-dotenv>=0.21.0 in /Users/ngocp/Documents/projects/document-bot/.venv/lib/python3.12/site-packages (from pydantic-settings<3.0.0,>=2.4.0->langchain-community) (1.0.1)\n",
      "Requirement already satisfied: charset-normalizer<4,>=2 in /Users/ngocp/Documents/projects/document-bot/.venv/lib/python3.12/site-packages (from requests<3,>=2->langchain-community) (3.4.0)\n",
      "Requirement already satisfied: idna<4,>=2.5 in /Users/ngocp/Documents/projects/document-bot/.venv/lib/python3.12/site-packages (from requests<3,>=2->langchain-community) (3.10)\n",
      "Requirement already satisfied: urllib3<3,>=1.21.1 in /Users/ngocp/Documents/projects/document-bot/.venv/lib/python3.12/site-packages (from requests<3,>=2->langchain-community) (2.2.3)\n",
      "Requirement already satisfied: certifi>=2017.4.17 in /Users/ngocp/Documents/projects/document-bot/.venv/lib/python3.12/site-packages (from requests<3,>=2->langchain-community) (2024.8.30)\n",
      "Requirement already satisfied: anyio in /Users/ngocp/Documents/projects/document-bot/.venv/lib/python3.12/site-packages (from httpx<1,>=0.23.0->langsmith<0.3,>=0.1.125->langchain-community) (4.6.2.post1)\n",
      "Requirement already satisfied: httpcore==1.* in /Users/ngocp/Documents/projects/document-bot/.venv/lib/python3.12/site-packages (from httpx<1,>=0.23.0->langsmith<0.3,>=0.1.125->langchain-community) (1.0.7)\n",
      "Requirement already satisfied: h11<0.15,>=0.13 in /Users/ngocp/Documents/projects/document-bot/.venv/lib/python3.12/site-packages (from httpcore==1.*->httpx<1,>=0.23.0->langsmith<0.3,>=0.1.125->langchain-community) (0.14.0)\n",
      "Requirement already satisfied: jsonpointer>=1.9 in /Users/ngocp/Documents/projects/document-bot/.venv/lib/python3.12/site-packages (from jsonpatch<2.0,>=1.33->langchain-core<0.4.0,>=0.3.29->langchain-community) (3.0.0)\n",
      "Requirement already satisfied: annotated-types>=0.6.0 in /Users/ngocp/Documents/projects/document-bot/.venv/lib/python3.12/site-packages (from pydantic<3.0.0,>=2.7.4->langchain<0.4.0,>=0.3.14->langchain-community) (0.7.0)\n",
      "Requirement already satisfied: pydantic-core==2.23.4 in /Users/ngocp/Documents/projects/document-bot/.venv/lib/python3.12/site-packages (from pydantic<3.0.0,>=2.7.4->langchain<0.4.0,>=0.3.14->langchain-community) (2.23.4)\n",
      "Requirement already satisfied: mypy-extensions>=0.3.0 in /Users/ngocp/Documents/projects/document-bot/.venv/lib/python3.12/site-packages (from typing-inspect<1,>=0.4.0->dataclasses-json<0.7,>=0.5.7->langchain-community) (1.0.0)\n",
      "Requirement already satisfied: sniffio>=1.1 in /Users/ngocp/Documents/projects/document-bot/.venv/lib/python3.12/site-packages (from anyio->httpx<1,>=0.23.0->langsmith<0.3,>=0.1.125->langchain-community) (1.3.1)\n",
      "Downloading langchain_community-0.3.14-py3-none-any.whl (2.5 MB)\n",
      "\u001b[2K   \u001b[90m━━━━━━━━━━━━━━━━━━━━━━━━━━━━━━━━━━━━━━━━\u001b[0m \u001b[32m2.5/2.5 MB\u001b[0m \u001b[31m119.1 kB/s\u001b[0m eta \u001b[36m0:00:00\u001b[0ma \u001b[36m0:00:02\u001b[0m\n",
      "\u001b[?25hUsing cached httpx_sse-0.4.0-py3-none-any.whl (7.8 kB)\n",
      "Downloading langchain-0.3.14-py3-none-any.whl (1.0 MB)\n",
      "\u001b[2K   \u001b[90m━━━━━━━━━━━━━━━━━━━━━━━━━━━━━━━━━━━━━━━━\u001b[0m \u001b[32m1.0/1.0 MB\u001b[0m \u001b[31m208.5 kB/s\u001b[0m eta \u001b[36m0:00:00\u001b[0ma \u001b[36m0:00:02\u001b[0m\n",
      "\u001b[?25hDownloading pydantic_settings-2.7.1-py3-none-any.whl (29 kB)\n",
      "Installing collected packages: httpx-sse, pydantic-settings, langchain, langchain-community\n",
      "Successfully installed httpx-sse-0.4.0 langchain-0.3.14 langchain-community-0.3.14 pydantic-settings-2.7.1\n"
     ]
    }
   ],
   "source": [
    "!pip install -qU langchain-openai\n",
    "!pip install langchain-community"
   ]
  },
  {
   "cell_type": "code",
   "execution_count": 10,
   "metadata": {},
   "outputs": [],
   "source": [
    "import bs4\n",
    "from langchain_community.document_loaders import WebBaseLoader\n",
    "from langchain_core.documents import Document\n",
    "from langchain_text_splitters import RecursiveCharacterTextSplitter\n",
    "from typing_extensions import List, TypedDict\n",
    "\n",
    "# Load and chunk contents of the blog\n",
    "\n",
    "loader = WebBaseLoader(\n",
    "    web_paths=(\"https://bootstrap-datepicker.readthedocs.io/en/latest/\",),\n",
    "    bs_kwargs=dict(\n",
    "        parse_only=bs4.SoupStrainer(\n",
    "            class_=(\"section\")\n",
    "        )\n",
    "    ),\n",
    ")\n",
    "docs = loader.load()\n",
    "\n",
    "text_splitter = RecursiveCharacterTextSplitter(chunk_size=1000, chunk_overlap=200)\n",
    "all_splits = text_splitter.split_documents(docs)"
   ]
  },
  {
   "cell_type": "code",
   "execution_count": 11,
   "metadata": {},
   "outputs": [
    {
     "name": "stdout",
     "output_type": "stream",
     "text": [
      "all_splits [Document(metadata={'source': 'https://bootstrap-datepicker.readthedocs.io/en/latest/'}, page_content=\"bootstrap-datepicker¶\\nBootstrap-datepicker provides a flexible datepicker widget in the Bootstrap style.\\n\\n\\n\\nVersions are incremented according to semver.\\nOnline Demo\\n\\nRequirements¶\\n\\nBootstrap 2.0.4+\\njQuery 1.7.1+\\n\\nThese are the specific versions bootstrap-datepicker is tested against (js files) and built against (css files).  Use other versions at your own risk.\\n\\n\\nDependencies¶\\nRequires bootstrap’s dropdown component (dropdowns.less) for some styles, and bootstrap’s sprites (sprites.less and associated images) for arrows.\\nA standalone .css file (including necessary dropdown styles and alternative, text-based arrows) can be generated by running build/build_standalone.less through the lessc compiler:\\n$ lessc build/build_standalone.less datepicker.css\\n\\n\\n\\n\\nUsage¶\\nCall the datepicker via javascript:\\n$('.datepicker').datepicker();\"), Document(metadata={'source': 'https://bootstrap-datepicker.readthedocs.io/en/latest/'}, page_content='Usage¶\\nCall the datepicker via javascript:\\n$(\\'.datepicker\\').datepicker();\\n\\n\\n\\nData API¶\\nAs with bootstrap’s own plugins, datepicker provides a data-api that can be used to instantiate datepickers without the need for custom javascript.  For most datepickers, simply set data-provide=\"datepicker\" on the element you want to initialize, and it will be intialized lazily, in true bootstrap fashion.  For inline datepickers, use data-provide=\"datepicker-inline\"; these will be immediately initialized on page load, and cannot be lazily loaded.\\n<input data-provide=\"datepicker\">\\n\\n\\nMarkup with component\\n<div class=\"input-group date\" data-provide=\"datepicker\">\\n    <input type=\"text\" class=\"form-control\">\\n    <div class=\"input-group-addon\">\\n        <span class=\"glyphicon glyphicon-th\"></span>\\n    </div>\\n</div>\\n\\n\\nYou can disable datepicker’s data-api in the same way as you would disable other bootstrap plugins:\\n$(document).off(\\'.datepicker.data-api\\');'), Document(metadata={'source': 'https://bootstrap-datepicker.readthedocs.io/en/latest/'}, page_content='You can disable datepicker’s data-api in the same way as you would disable other bootstrap plugins:\\n$(document).off(\\'.datepicker.data-api\\');\\n\\n\\n\\n\\nConfiguration¶\\nOptions are passed to the datepicker function via an options hash at instantiation:\\n$(\\'.datepicker\\').datepicker({\\n    format: \\'mm/dd/yyyy\\',\\n    startDate: \\'-3d\\'\\n});\\n\\n\\nMost options may be provided as data-attributes on the target element:\\n<input class=\"datepicker\" data-date-format=\"mm/dd/yyyy\">\\n\\n\\n$(\\'.datepicker\\').datepicker({\\n    startDate: \\'-3d\\'\\n});\\n\\n\\nDefaults for all options can be modified directly by changing values in the $.fn.datepicker.defaults hash:\\n$.fn.datepicker.defaults.format = \"mm/dd/yyyy\";\\n$(\\'.datepicker\\').datepicker({\\n    startDate: \\'-3d\\'\\n});'), Document(metadata={'source': 'https://bootstrap-datepicker.readthedocs.io/en/latest/'}, page_content='Stylesheets¶\\nThere are a few different stylesheets included in the library. This is an overview of what each file is to be used for:\\nbootstrap-datepicker.css gives legacy support for twitter bootstrap v2, bootstrap-datepicker3.css is used for twitter bootstrap v3 support\\nand bootstrap-datepicker.standalone.css can be used to include the datepicker without depending on the twitter bootstrap library.\\n\\n\\nNo Conflict mode¶\\n$.fn.datepicker.noConflict provides a way to avoid conflict with other jQuery datepicker plugins:\\nvar datepicker = $.fn.datepicker.noConflict(); // return $.fn.datepicker to previously assigned value\\n$.fn.bootstrapDP = datepicker;                 // give $().bootstrapDP the bootstrap-datepicker functionality\\n\\n\\n\\n\\n\\nTable of Contents¶\\n\\n\\nMarkup\\ninput\\ncomponent\\ndate-range\\ninline or embedded'), Document(metadata={'source': 'https://bootstrap-datepicker.readthedocs.io/en/latest/'}, page_content='Table of Contents¶\\n\\n\\nMarkup\\ninput\\ncomponent\\ndate-range\\ninline or embedded\\n\\n\\nOptions\\nautoclose\\nassumeNearbyYear\\nbeforeShowDay\\nbeforeShowMonth\\nbeforeShowYear\\nbeforeShowDecade\\nbeforeShowCentury\\ncalendarWeeks\\nclearBtn\\ncontainer\\ndatesDisabled\\ndaysOfWeekDisabled\\ndaysOfWeekHighlighted\\ndefaultViewDate\\ndisableTouchKeyboard\\nenableOnReadonly\\nendDate\\nforceParse\\nformat\\nimmediateUpdates\\ninputs\\nkeepEmptyValues\\nkeyboardNavigation\\nlanguage\\nmaxViewMode\\nminViewMode\\nmultidate\\nmultidateSeparator\\norientation\\nshowOnFocus\\nstartDate\\nstartView\\ntemplates\\nshowWeekDays\\ntitle\\ntodayBtn\\ntodayHighlight\\ntoggleActive\\nupdateViewDate\\nweekStart\\nzIndexOffset\\n\\n\\nQuick reference\\nMethods\\ndestroy\\nshow\\nhide\\nupdate\\nsetDate\\nsetUTCDate\\nsetDates\\nclearDates\\nsetUTCDates\\ngetDate\\ngetUTCDate\\ngetDates\\ngetUTCDates\\ngetStartDate\\ngetEndDate\\nsetStartDate\\nsetEndDate\\nsetDatesDisabled\\nsetDaysOfWeekDisabled\\nsetDaysOfWeekHighlighted\\n\\n\\nEvents\\nshow\\nhide\\nclearDate\\nchangeDate\\nchangeMonth\\nchangeYear\\nchangeDecade\\nchangeCentury'), Document(metadata={'source': 'https://bootstrap-datepicker.readthedocs.io/en/latest/'}, page_content='Events\\nshow\\nhide\\nclearDate\\nchangeDate\\nchangeMonth\\nchangeYear\\nchangeDecade\\nchangeCentury\\n\\n\\nKeyboard support\\nup, down, left, right arrow keys\\nenter\\nescape\\n\\n\\nI18N')]\n"
     ]
    }
   ],
   "source": [
    "print('all_splits', all_splits)"
   ]
  }
 ],
 "metadata": {
  "kernelspec": {
   "display_name": ".venv",
   "language": "python",
   "name": "python3"
  },
  "language_info": {
   "codemirror_mode": {
    "name": "ipython",
    "version": 3
   },
   "file_extension": ".py",
   "mimetype": "text/x-python",
   "name": "python",
   "nbconvert_exporter": "python",
   "pygments_lexer": "ipython3",
   "version": "3.12.7"
  }
 },
 "nbformat": 4,
 "nbformat_minor": 2
}
