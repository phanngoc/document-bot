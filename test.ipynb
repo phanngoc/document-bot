{
 "cells": [
  {
   "cell_type": "code",
   "execution_count": null,
   "metadata": {},
   "outputs": [
    {
     "name": "stderr",
     "output_type": "stream",
     "text": [
      "/Users/ngocp/Documents/projects/crawler/.venv/lib/python3.12/site-packages/tqdm/auto.py:21: TqdmWarning: IProgress not found. Please update jupyter and ipywidgets. See https://ipywidgets.readthedocs.io/en/stable/user_install.html\n",
      "  from .autonotebook import tqdm as notebook_tqdm\n"
     ]
    },
    {
     "name": "stdout",
     "output_type": "stream",
     "text": [
      "page: 1\n",
      "page: 2\n",
      "page: 3\n",
      "page: 4\n",
      "page: 5\n",
      "page: 6\n",
      "page: 7\n",
      "page: 8\n",
      "page: 9\n",
      "page: 10\n",
      "page: 11\n",
      "page: 12\n",
      "page: 13\n",
      "page: 14\n",
      "page: 15\n",
      "page: 16\n",
      "page: 17\n",
      "page: 18\n",
      "page: 19\n",
      "page: 20\n"
     ]
    }
   ],
   "source": [
    "import chromadb\n",
    "from chromadb.config import Settings\n",
    "from transformers import AutoTokenizer, AutoModel\n",
    "from llama_index.core import VectorStoreIndex, SimpleDirectoryReader\n",
    "from llama_index.vector_stores.chroma import ChromaVectorStore\n",
    "from llama_index.core import StorageContext\n",
    "from llama_index.embeddings.huggingface import HuggingFaceEmbedding\n",
    "from llama_index.core import Document\n",
    "from model import Page\n",
    "import openai\n",
    "import os\n",
    "from dotenv import load_dotenv\n",
    "\n",
    "load_dotenv()  # Load environment variables from a .env file\n",
    "\n",
    "openai.api_key = os.environ[\"OPENAI_API_KEY\"]\n",
    "\n",
    "documents = []\n",
    "pages = Page.select()\n",
    "for page in pages:\n",
    "    print('page:', page.id)\n",
    "    doc = Document(\n",
    "        id=str(page.id) if page.id else None,\n",
    "        text=page.text_content\n",
    "    )\n",
    "    documents.append(doc)\n"
   ]
  },
  {
   "cell_type": "code",
   "execution_count": null,
   "metadata": {},
   "outputs": [],
   "source": [
    "from gc import collect\n",
    "from chromadb.config import Settings\n",
    "from chromadb import Client\n",
    "\n",
    "# Configure persistent storage for Chroma\n",
    "sqlite_settings = Settings(\n",
    "    persist_directory=\"./chroma_data\",  # Directory for storing SQLite files\n",
    "    is_persistent = True\n",
    ")\n",
    "chroma_client = Client(settings=sqlite_settings)\n",
    "\n",
    "collection_name = \"quickstart\"\n",
    "chroma_collection = chroma_client.get_or_create_collection(collection_name)\n"
   ]
  },
  {
   "cell_type": "code",
   "execution_count": 14,
   "metadata": {},
   "outputs": [
    {
     "name": "stderr",
     "output_type": "stream",
     "text": [
      "Parsing nodes: 100%|██████████| 20/20 [00:34<00:00,  1.71s/it] \n",
      "Generating embeddings: 100%|██████████| 846/846 [00:28<00:00, 30.10it/s]\n"
     ]
    }
   ],
   "source": [
    "\n",
    "# Setup vector store and storage context\n",
    "vector_store = ChromaVectorStore(chroma_collection=chroma_collection)\n",
    "\n",
    "# Setup vector store and storage context\n",
    "vector_store = ChromaVectorStore(chroma_collection=chroma_collection)\n",
    "storage_context = StorageContext.from_defaults(vector_store=vector_store)\n",
    "\n",
    "index = VectorStoreIndex.from_documents(\n",
    "    documents, storage_context, show_progress=True\n",
    ")"
   ]
  },
  {
   "cell_type": "code",
   "execution_count": null,
   "metadata": {},
   "outputs": [],
   "source": [
    "query_engine = index.as_query_engine()"
   ]
  },
  {
   "cell_type": "code",
   "execution_count": 19,
   "metadata": {},
   "outputs": [
    {
     "name": "stdout",
     "output_type": "stream",
     "text": [
      "response: To use HuggingFace LLM - StableLM, you can follow these steps:\n",
      "\n",
      "1. Install the required packages by running the following command:\n",
      "```python\n",
      "%pip install llama-index-llms-huggingface\n",
      "```\n",
      "\n",
      "2. Import the necessary modules:\n",
      "```python\n",
      "import logging\n",
      "import sys\n",
      "from llama_index.core import VectorStoreIndex, SimpleDirectoryReader\n",
      "from llama_index.llms.huggingface import HuggingFaceLLM\n",
      "from llama_index.core import Settings\n",
      "```\n",
      "\n",
      "3. Set up the prompts specific to StableLM:\n",
      "```python\n",
      "from llama_index.core import PromptTemplate\n",
      "\n",
      "system_prompt = \"\"\"<|SYSTEM|># StableLM Tuned (Alpha version)\n",
      "- StableLM is a helpful and harmless open-source AI language model developed by StabilityAI.\n",
      "- StableLM is excited to be able to help the user, but will refuse to do anything that could be considered harmful to the user.\n",
      "- StableLM is more than just an information source, StableLM is also able to write poetry, short stories, and make jokes.\n",
      "- StableLM will refuse to participate in anything that could harm a human.\n",
      "\"\"\"\n",
      "\n",
      "query_wrapper_prompt = PromptTemplate(\"<|USER|>{query_str}<|ASSISTANT|>\")\n",
      "```\n",
      "\n",
      "These steps will help you set up and use HuggingFace LLM - StableLM with the necessary configurations and prompts.\n"
     ]
    }
   ],
   "source": [
    "\n",
    "response = query_engine.query(\"how to use HuggingFace LLM - StableLM ? write example code\")\n",
    "print('response:', response)"
   ]
  }
 ],
 "metadata": {
  "kernelspec": {
   "display_name": ".venv",
   "language": "python",
   "name": "python3"
  },
  "language_info": {
   "codemirror_mode": {
    "name": "ipython",
    "version": 3
   },
   "file_extension": ".py",
   "mimetype": "text/x-python",
   "name": "python",
   "nbconvert_exporter": "python",
   "pygments_lexer": "ipython3",
   "version": "3.12.7"
  }
 },
 "nbformat": 4,
 "nbformat_minor": 2
}
